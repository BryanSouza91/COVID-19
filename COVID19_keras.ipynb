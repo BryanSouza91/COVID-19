{
  "nbformat": 4,
  "nbformat_minor": 0,
  "metadata": {
    "colab": {
      "name": "COVID19 keras.ipynb",
      "provenance": [],
      "collapsed_sections": [],
      "authorship_tag": "ABX9TyO5lZKe0zmwoNCwoWN2i+CM",
      "include_colab_link": true
    },
    "kernelspec": {
      "name": "python3",
      "display_name": "Python 3"
    }
  },
  "cells": [
    {
      "cell_type": "markdown",
      "metadata": {
        "id": "view-in-github",
        "colab_type": "text"
      },
      "source": [
        "<a href=\"https://colab.research.google.com/github/BryanSouza91/COVID-19/blob/master/COVID19_keras.ipynb\" target=\"_parent\"><img src=\"https://colab.research.google.com/assets/colab-badge.svg\" alt=\"Open In Colab\"/></a>"
      ]
    },
    {
      "cell_type": "code",
      "metadata": {
        "id": "jXr0MXUvTOSO",
        "colab_type": "code",
        "outputId": "bcb89f23-4732-4f70-b787-b25623d229bf",
        "colab": {
          "base_uri": "https://localhost:8080/",
          "height": 52
        }
      },
      "source": [
        "import pandas as pd\n",
        "import numpy as np\n",
        "import matplotlib.pyplot as plt\n",
        "import seaborn as sns"
      ],
      "execution_count": 1,
      "outputs": [
        {
          "output_type": "stream",
          "text": [
            "/usr/local/lib/python3.6/dist-packages/statsmodels/tools/_testing.py:19: FutureWarning: pandas.util.testing is deprecated. Use the functions in the public API at pandas.testing instead.\n",
            "  import pandas.util.testing as tm\n"
          ],
          "name": "stderr"
        }
      ]
    },
    {
      "cell_type": "code",
      "metadata": {
        "id": "5OpQCPUUnWpf",
        "colab_type": "code",
        "outputId": "b6d69811-3c25-44b1-81da-a48f8d369800",
        "colab": {
          "base_uri": "https://localhost:8080/",
          "height": 35
        }
      },
      "source": [
        "import tensorflow as tf\n",
        "tf.__version__"
      ],
      "execution_count": 2,
      "outputs": [
        {
          "output_type": "execute_result",
          "data": {
            "text/plain": [
              "'2.2.0-rc2'"
            ]
          },
          "metadata": {
            "tags": []
          },
          "execution_count": 2
        }
      ]
    },
    {
      "cell_type": "code",
      "metadata": {
        "id": "rNvx_ptAeDNJ",
        "colab_type": "code",
        "colab": {}
      },
      "source": [
        "tf.random.set_seed(29)"
      ],
      "execution_count": 0,
      "outputs": []
    },
    {
      "cell_type": "code",
      "metadata": {
        "id": "5eOy4l1Xle9W",
        "colab_type": "code",
        "colab": {}
      },
      "source": [
        "confirmed_url = \"https://github.com/CSSEGISandData/COVID-19/raw/master/csse_covid_19_data/csse_covid_19_time_series/time_series_covid19_confirmed_global.csv\"\n",
        "recovered_url = \"https://github.com/CSSEGISandData/COVID-19/raw/master/csse_covid_19_data/csse_covid_19_time_series/time_series_covid19_recovered_global.csv\"\n",
        "deaths_url = \"https://github.com/CSSEGISandData/COVID-19/raw/master/csse_covid_19_data/csse_covid_19_time_series/time_series_covid19_deaths_global.csv\""
      ],
      "execution_count": 0,
      "outputs": []
    },
    {
      "cell_type": "code",
      "metadata": {
        "id": "MukPhklGlkbi",
        "colab_type": "code",
        "colab": {}
      },
      "source": [
        "conf_df = pd.read_csv(confirmed_url)\n",
        "recv_df = pd.read_csv(recovered_url)\n",
        "death_df = pd.read_csv(deaths_url)"
      ],
      "execution_count": 0,
      "outputs": []
    },
    {
      "cell_type": "code",
      "metadata": {
        "id": "LgNc98aOlsk-",
        "colab_type": "code",
        "outputId": "6c50a974-6b63-42c4-9993-e4f8a9dfe02b",
        "colab": {
          "base_uri": "https://localhost:8080/",
          "height": 337
        }
      },
      "source": [
        "print(conf_df.loc[:,'1/22/20':].sum().tail())\n",
        "print(recv_df.loc[:,'1/22/20':].sum().tail())\n",
        "print(death_df.loc[:,'1/22/20':].sum().tail())"
      ],
      "execution_count": 6,
      "outputs": [
        {
          "output_type": "stream",
          "text": [
            "4/11/20    1771514\n",
            "4/12/20    1846679\n",
            "4/13/20    1917319\n",
            "4/14/20    1976191\n",
            "4/15/20    2056054\n",
            "dtype: int64\n",
            "4/11/20    402110\n",
            "4/12/20    421722\n",
            "4/13/20    448655\n",
            "4/14/20    474261\n",
            "4/15/20    511019\n",
            "dtype: int64\n",
            "4/11/20    108503\n",
            "4/12/20    114091\n",
            "4/13/20    119482\n",
            "4/14/20    125984\n",
            "4/15/20    134177\n",
            "dtype: int64\n"
          ],
          "name": "stdout"
        }
      ]
    },
    {
      "cell_type": "code",
      "metadata": {
        "id": "8zeLTvRGlvzI",
        "colab_type": "code",
        "outputId": "c467ee56-120e-499a-d5d2-e9dbc7e09456",
        "colab": {
          "base_uri": "https://localhost:8080/",
          "height": 70
        }
      },
      "source": [
        "print(\"New cases as of {}: {}\".format(conf_df.columns[-1],(conf_df.loc[::].sum()[-1] - conf_df.loc[::].sum()[-2])))\n",
        "print(\"New case rate: {0:.3%}\".format((conf_df.loc[::].sum()[-1] - conf_df.loc[::].sum()[-2])/ conf_df.loc[::].sum()[-2]))\n",
        "print(\"Death rate: {0:.3%}\".format(death_df.loc[::].sum()[-1]/conf_df.loc[::].sum()[-1]))"
      ],
      "execution_count": 7,
      "outputs": [
        {
          "output_type": "stream",
          "text": [
            "New cases as of 4/15/20: 79863\n",
            "New case rate: 4.041%\n",
            "Death rate: 6.526%\n"
          ],
          "name": "stdout"
        }
      ]
    },
    {
      "cell_type": "code",
      "metadata": {
        "id": "p8DyN2apLeQQ",
        "colab_type": "code",
        "colab": {}
      },
      "source": [
        "def standardize(x, mean, std):\n",
        "  return (x - mean) / std\n",
        "\n",
        "def inv_standardize(x, mean, std):\n",
        "  return (x * std) + mean"
      ],
      "execution_count": 0,
      "outputs": []
    },
    {
      "cell_type": "code",
      "metadata": {
        "id": "erVda9y4l0zS",
        "colab_type": "code",
        "colab": {}
      },
      "source": [
        "# split a univariate sequence into samples\n",
        "def split_sequence(sequence, n_steps_in, n_steps_out):\n",
        "\tX, y = list(), list()\n",
        "\tfor i in range(len(sequence)):\n",
        "\t\t# find the end of this pattern\n",
        "\t\tend_ix = i + n_steps_in\n",
        "\t\tout_end_ix = end_ix + n_steps_out\n",
        "\t\t# check if we are beyond the sequence\n",
        "\t\tif out_end_ix > len(sequence):\n",
        "\t\t\tbreak\n",
        "\t\t# gather input and output parts of the pattern\n",
        "\t\tseq_x, seq_y = sequence[i:end_ix], sequence[end_ix:out_end_ix]\n",
        "\t\tX.append(seq_x)\n",
        "\t\ty.append(seq_y)\n",
        "\treturn np.array(X), np.array(y)"
      ],
      "execution_count": 0,
      "outputs": []
    },
    {
      "cell_type": "code",
      "metadata": {
        "id": "9s0oMrbwmhgE",
        "colab_type": "code",
        "outputId": "885d2810-88f4-4a7a-8934-d6f1f6b3b014",
        "colab": {
          "base_uri": "https://localhost:8080/",
          "height": 1000
        }
      },
      "source": [
        "# define input sequence\n",
        "\n",
        "raw_seq = np.log10(conf_df.loc[:,'1/22/20':].sum().values)\n",
        "\n",
        "# get mean and std\n",
        "TRAIN_SPLIT = int(len(raw_seq)*.8)\n",
        "print(TRAIN_SPLIT)\n",
        "MEAN = raw_seq[:TRAIN_SPLIT].mean()\n",
        "STD = raw_seq[:TRAIN_SPLIT].std()\n",
        "stand_seq = standardize(raw_seq, MEAN, STD)\n",
        "\n",
        "# choose a number of time steps\n",
        "\n",
        "n_steps_in, n_steps_out = 9, 3\n",
        "\n",
        "# split into samples\n",
        "\n",
        "X, y = split_sequence(stand_seq, n_steps_in, n_steps_out)\n",
        "\n",
        "for i in range(len(X)):\n",
        "  print(X[i], y[i])"
      ],
      "execution_count": 10,
      "outputs": [
        {
          "output_type": "stream",
          "text": [
            "68\n",
            "[-2.89873887 -2.7965028  -2.56988338 -2.30748422 -2.0645653  -1.86306591\n",
            " -1.46141203 -1.39898879 -1.2188437 ] [-1.10237701 -0.98228302 -0.77515875]\n",
            "[-2.7965028  -2.56988338 -2.30748422 -2.0645653  -1.86306591 -1.46141203\n",
            " -1.39898879 -1.2188437  -1.10237701] [-0.98228302 -0.77515875 -0.66979562]\n",
            "[-2.56988338 -2.30748422 -2.0645653  -1.86306591 -1.46141203 -1.39898879\n",
            " -1.2188437  -1.10237701 -0.98228302] [-0.77515875 -0.66979562 -0.55532658]\n",
            "[-2.30748422 -2.0645653  -1.86306591 -1.46141203 -1.39898879 -1.2188437\n",
            " -1.10237701 -0.98228302 -0.77515875] [-0.66979562 -0.55532658 -0.46467564]\n",
            "[-2.0645653  -1.86306591 -1.46141203 -1.39898879 -1.2188437  -1.10237701\n",
            " -0.98228302 -0.77515875 -0.66979562] [-0.55532658 -0.46467564 -0.39725908]\n",
            "[-1.86306591 -1.46141203 -1.39898879 -1.2188437  -1.10237701 -0.98228302\n",
            " -0.77515875 -0.66979562 -0.55532658] [-0.46467564 -0.39725908 -0.3284484 ]\n",
            "[-1.46141203 -1.39898879 -1.2188437  -1.10237701 -0.98228302 -0.77515875\n",
            " -0.66979562 -0.55532658 -0.46467564] [-0.39725908 -0.3284484  -0.28088604]\n",
            "[-1.39898879 -1.2188437  -1.10237701 -0.98228302 -0.77515875 -0.66979562\n",
            " -0.55532658 -0.46467564 -0.39725908] [-0.3284484  -0.28088604 -0.23201223]\n",
            "[-1.2188437  -1.10237701 -0.98228302 -0.77515875 -0.66979562 -0.55532658\n",
            " -0.46467564 -0.39725908 -0.3284484 ] [-0.28088604 -0.23201223 -0.19275486]\n",
            "[-1.10237701 -0.98228302 -0.77515875 -0.66979562 -0.55532658 -0.46467564\n",
            " -0.39725908 -0.3284484  -0.28088604] [-0.23201223 -0.19275486 -0.16372768]\n",
            "[-0.98228302 -0.77515875 -0.66979562 -0.55532658 -0.46467564 -0.39725908\n",
            " -0.3284484  -0.28088604 -0.23201223] [-0.19275486 -0.16372768 -0.15792958]\n",
            "[-0.77515875 -0.66979562 -0.55532658 -0.46467564 -0.39725908 -0.3284484\n",
            " -0.28088604 -0.23201223 -0.19275486] [-0.16372768 -0.15792958  0.0220137 ]\n",
            "[-0.66979562 -0.55532658 -0.46467564 -0.39725908 -0.3284484  -0.28088604\n",
            " -0.23201223 -0.19275486 -0.16372768] [-0.15792958  0.0220137   0.08586673]\n",
            "[-0.55532658 -0.46467564 -0.39725908 -0.3284484  -0.28088604 -0.23201223\n",
            " -0.19275486 -0.16372768 -0.15792958] [0.0220137  0.08586673 0.10552828]\n",
            "[-0.46467564 -0.39725908 -0.3284484  -0.28088604 -0.23201223 -0.19275486\n",
            " -0.16372768 -0.15792958  0.0220137 ] [0.08586673 0.10552828 0.12501678]\n",
            "[-0.39725908 -0.3284484  -0.28088604 -0.23201223 -0.19275486 -0.16372768\n",
            " -0.15792958  0.0220137   0.08586673] [0.10552828 0.12501678 0.14255508]\n",
            "[-0.3284484  -0.28088604 -0.23201223 -0.19275486 -0.16372768 -0.15792958\n",
            "  0.0220137   0.08586673  0.10552828] [0.12501678 0.14255508 0.15832118]\n",
            "[-0.28088604 -0.23201223 -0.19275486 -0.16372768 -0.15792958  0.0220137\n",
            "  0.08586673  0.10552828  0.12501678] [0.14255508 0.15832118 0.16247705]\n",
            "[-0.23201223 -0.19275486 -0.16372768 -0.15792958  0.0220137   0.08586673\n",
            "  0.10552828  0.12501678  0.14255508] [0.15832118 0.16247705 0.16705513]\n",
            "[-0.19275486 -0.16372768 -0.15792958  0.0220137   0.08586673  0.10552828\n",
            "  0.12501678  0.14255508  0.15832118] [0.16247705 0.16705513 0.17211894]\n",
            "[-0.16372768 -0.15792958  0.0220137   0.08586673  0.10552828  0.12501678\n",
            "  0.14255508  0.15832118  0.16247705] [0.16705513 0.17211894 0.18617282]\n",
            "[-0.15792958  0.0220137   0.08586673  0.10552828  0.12501678  0.14255508\n",
            "  0.15832118  0.16247705  0.16705513] [0.17211894 0.18617282 0.18922526]\n",
            "[0.0220137  0.08586673 0.10552828 0.12501678 0.14255508 0.15832118\n",
            " 0.16247705 0.16705513 0.17211894] [0.18617282 0.18922526 0.19396396]\n",
            "[0.08586673 0.10552828 0.12501678 0.14255508 0.15832118 0.16247705\n",
            " 0.16705513 0.17211894 0.18617282] [0.18922526 0.19396396 0.20054436]\n",
            "[0.10552828 0.12501678 0.14255508 0.15832118 0.16247705 0.16705513\n",
            " 0.17211894 0.18617282 0.18922526] [0.19396396 0.20054436 0.2081053 ]\n",
            "[0.12501678 0.14255508 0.15832118 0.16247705 0.16705513 0.17211894\n",
            " 0.18617282 0.18922526 0.19396396] [0.20054436 0.2081053  0.21841232]\n",
            "[0.14255508 0.15832118 0.16247705 0.16705513 0.17211894 0.18617282\n",
            " 0.18922526 0.19396396 0.20054436] [0.2081053  0.21841232 0.22861079]\n",
            "[0.15832118 0.16247705 0.16705513 0.17211894 0.18617282 0.18922526\n",
            " 0.19396396 0.20054436 0.2081053 ] [0.21841232 0.22861079 0.24251677]\n",
            "[0.16247705 0.16705513 0.17211894 0.18617282 0.18922526 0.19396396\n",
            " 0.20054436 0.2081053  0.21841232] [0.22861079 0.24251677 0.25936271]\n",
            "[0.16705513 0.17211894 0.18617282 0.18922526 0.19396396 0.20054436\n",
            " 0.2081053  0.21841232 0.22861079] [0.24251677 0.25936271 0.27286802]\n",
            "[0.17211894 0.18617282 0.18922526 0.19396396 0.20054436 0.2081053\n",
            " 0.21841232 0.22861079 0.24251677] [0.25936271 0.27286802 0.2901049 ]\n",
            "[0.18617282 0.18922526 0.19396396 0.20054436 0.2081053  0.21841232\n",
            " 0.22861079 0.24251677 0.25936271] [0.27286802 0.2901049  0.30521657]\n",
            "[0.18922526 0.19396396 0.20054436 0.2081053  0.21841232 0.22861079\n",
            " 0.24251677 0.25936271 0.27286802] [0.2901049  0.30521657 0.32307046]\n",
            "[0.19396396 0.20054436 0.2081053  0.21841232 0.22861079 0.24251677\n",
            " 0.25936271 0.27286802 0.2901049 ] [0.30521657 0.32307046 0.34749685]\n",
            "[0.20054436 0.2081053  0.21841232 0.22861079 0.24251677 0.25936271\n",
            " 0.27286802 0.2901049  0.30521657] [0.32307046 0.34749685 0.37177272]\n",
            "[0.2081053  0.21841232 0.22861079 0.24251677 0.25936271 0.27286802\n",
            " 0.2901049  0.30521657 0.32307046] [0.34749685 0.37177272 0.39472961]\n",
            "[0.21841232 0.22861079 0.24251677 0.25936271 0.27286802 0.2901049\n",
            " 0.30521657 0.32307046 0.34749685] [0.37177272 0.39472961 0.41574728]\n",
            "[0.22861079 0.24251677 0.25936271 0.27286802 0.2901049  0.30521657\n",
            " 0.32307046 0.34749685 0.37177272] [0.39472961 0.41574728 0.44273565]\n",
            "[0.24251677 0.25936271 0.27286802 0.2901049  0.30521657 0.32307046\n",
            " 0.34749685 0.37177272 0.39472961] [0.41574728 0.44273565 0.47971138]\n",
            "[0.25936271 0.27286802 0.2901049  0.30521657 0.32307046 0.34749685\n",
            " 0.37177272 0.39472961 0.41574728] [0.44273565 0.47971138 0.49184917]\n",
            "[0.27286802 0.2901049  0.30521657 0.32307046 0.34749685 0.37177272\n",
            " 0.39472961 0.41574728 0.44273565] [0.47971138 0.49184917 0.56869166]\n",
            "[0.2901049  0.30521657 0.32307046 0.34749685 0.37177272 0.39472961\n",
            " 0.41574728 0.44273565 0.47971138] [0.49184917 0.56869166 0.61375989]\n",
            "[0.30521657 0.32307046 0.34749685 0.37177272 0.39472961 0.41574728\n",
            " 0.44273565 0.47971138 0.49184917] [0.56869166 0.61375989 0.65748819]\n",
            "[0.32307046 0.34749685 0.37177272 0.39472961 0.41574728 0.44273565\n",
            " 0.47971138 0.49184917 0.56869166] [0.61375989 0.65748819 0.70791171]\n",
            "[0.34749685 0.37177272 0.39472961 0.41574728 0.44273565 0.47971138\n",
            " 0.49184917 0.56869166 0.61375989] [0.65748819 0.70791171 0.75902256]\n",
            "[0.37177272 0.39472961 0.41574728 0.44273565 0.47971138 0.49184917\n",
            " 0.56869166 0.61375989 0.65748819] [0.70791171 0.75902256 0.81264085]\n",
            "[0.39472961 0.41574728 0.44273565 0.47971138 0.49184917 0.56869166\n",
            " 0.61375989 0.65748819 0.70791171] [0.75902256 0.81264085 0.88830935]\n",
            "[0.41574728 0.44273565 0.47971138 0.49184917 0.56869166 0.61375989\n",
            " 0.65748819 0.70791171 0.75902256] [0.81264085 0.88830935 0.96011046]\n",
            "[0.44273565 0.47971138 0.49184917 0.56869166 0.61375989 0.65748819\n",
            " 0.70791171 0.75902256 0.81264085] [0.88830935 0.96011046 1.02995046]\n",
            "[0.47971138 0.49184917 0.56869166 0.61375989 0.65748819 0.70791171\n",
            " 0.75902256 0.81264085 0.88830935] [0.96011046 1.02995046 1.09301484]\n",
            "[0.49184917 0.56869166 0.61375989 0.65748819 0.70791171 0.75902256\n",
            " 0.81264085 0.88830935 0.96011046] [1.02995046 1.09301484 1.16500037]\n",
            "[0.56869166 0.61375989 0.65748819 0.70791171 0.75902256 0.81264085\n",
            " 0.88830935 0.96011046 1.02995046] [1.09301484 1.16500037 1.22733227]\n",
            "[0.61375989 0.65748819 0.70791171 0.75902256 0.81264085 0.88830935\n",
            " 0.96011046 1.02995046 1.09301484] [1.16500037 1.22733227 1.29717843]\n",
            "[0.65748819 0.70791171 0.75902256 0.81264085 0.88830935 0.96011046\n",
            " 1.02995046 1.09301484 1.16500037] [1.22733227 1.29717843 1.37464901]\n",
            "[0.70791171 0.75902256 0.81264085 0.88830935 0.96011046 1.02995046\n",
            " 1.09301484 1.16500037 1.22733227] [1.29717843 1.37464901 1.44539365]\n",
            "[0.75902256 0.81264085 0.88830935 0.96011046 1.02995046 1.09301484\n",
            " 1.16500037 1.22733227 1.29717843] [1.37464901 1.44539365 1.51241625]\n",
            "[0.81264085 0.88830935 0.96011046 1.02995046 1.09301484 1.16500037\n",
            " 1.22733227 1.29717843 1.37464901] [1.44539365 1.51241625 1.56607976]\n",
            "[0.88830935 0.96011046 1.02995046 1.09301484 1.16500037 1.22733227\n",
            " 1.29717843 1.37464901 1.44539365] [1.51241625 1.56607976 1.617719  ]\n",
            "[0.96011046 1.02995046 1.09301484 1.16500037 1.22733227 1.29717843\n",
            " 1.37464901 1.44539365 1.51241625] [1.56607976 1.617719   1.67480676]\n",
            "[1.02995046 1.09301484 1.16500037 1.22733227 1.29717843 1.37464901\n",
            " 1.44539365 1.51241625 1.56607976] [1.617719   1.67480676 1.72711203]\n",
            "[1.09301484 1.16500037 1.22733227 1.29717843 1.37464901 1.44539365\n",
            " 1.51241625 1.56607976 1.617719  ] [1.67480676 1.72711203 1.77890279]\n",
            "[1.16500037 1.22733227 1.29717843 1.37464901 1.44539365 1.51241625\n",
            " 1.56607976 1.617719   1.67480676] [1.72711203 1.77890279 1.82762013]\n",
            "[1.22733227 1.29717843 1.37464901 1.44539365 1.51241625 1.56607976\n",
            " 1.617719   1.67480676 1.72711203] [1.77890279 1.82762013 1.88278561]\n",
            "[1.29717843 1.37464901 1.44539365 1.51241625 1.56607976 1.617719\n",
            " 1.67480676 1.72711203 1.77890279] [1.82762013 1.88278561 1.92048223]\n",
            "[1.37464901 1.44539365 1.51241625 1.56607976 1.617719   1.67480676\n",
            " 1.72711203 1.77890279 1.82762013] [1.88278561 1.92048223 1.95523059]\n",
            "[1.44539365 1.51241625 1.56607976 1.617719   1.67480676 1.72711203\n",
            " 1.77890279 1.82762013 1.88278561] [1.92048223 1.95523059 1.99165028]\n",
            "[1.51241625 1.56607976 1.617719   1.67480676 1.72711203 1.77890279\n",
            " 1.82762013 1.88278561 1.92048223] [1.95523059 1.99165028 2.0277139 ]\n",
            "[1.56607976 1.617719   1.67480676 1.72711203 1.77890279 1.82762013\n",
            " 1.88278561 1.92048223 1.95523059] [1.99165028 2.0277139  2.0615058 ]\n",
            "[1.617719   1.67480676 1.72711203 1.77890279 1.82762013 1.88278561\n",
            " 1.92048223 1.95523059 1.99165028] [2.0277139 2.0615058 2.0980379]\n",
            "[1.67480676 1.72711203 1.77890279 1.82762013 1.88278561 1.92048223\n",
            " 1.95523059 1.99165028 2.0277139 ] [2.0615058  2.0980379  2.12674522]\n",
            "[1.72711203 1.77890279 1.82762013 1.88278561 1.92048223 1.95523059\n",
            " 1.99165028 2.0277139  2.0615058 ] [2.0980379  2.12674522 2.15262783]\n",
            "[1.77890279 1.82762013 1.88278561 1.92048223 1.95523059 1.99165028\n",
            " 2.0277139  2.0615058  2.0980379 ] [2.12674522 2.15262783 2.17600942]\n",
            "[1.82762013 1.88278561 1.92048223 1.95523059 1.99165028 2.0277139\n",
            " 2.0615058  2.0980379  2.12674522] [2.15262783 2.17600942 2.19484688]\n",
            "[1.88278561 1.92048223 1.95523059 1.99165028 2.0277139  2.0615058\n",
            " 2.0980379  2.12674522 2.15262783] [2.17600942 2.19484688 2.21952302]\n"
          ],
          "name": "stdout"
        }
      ]
    },
    {
      "cell_type": "code",
      "metadata": {
        "id": "94UwwWGJm6VS",
        "colab_type": "code",
        "outputId": "4013f21c-6336-4305-856b-96af3a61abde",
        "colab": {
          "base_uri": "https://localhost:8080/",
          "height": 35
        }
      },
      "source": [
        "# reshape from [samples, timesteps] into [samples, timesteps, features]\n",
        "\n",
        "n_features = 1\n",
        "\n",
        "X = X.reshape((X.shape[0], X.shape[1], n_features))\n",
        "X.shape"
      ],
      "execution_count": 11,
      "outputs": [
        {
          "output_type": "execute_result",
          "data": {
            "text/plain": [
              "(74, 9, 1)"
            ]
          },
          "metadata": {
            "tags": []
          },
          "execution_count": 11
        }
      ]
    },
    {
      "cell_type": "code",
      "metadata": {
        "id": "Nngsj3OFV-Gt",
        "colab_type": "code",
        "colab": {}
      },
      "source": [
        "# define model\n",
        "\n",
        "def get_compiled_model(n_steps_in, n_steps_out, n_features):\n",
        "  model = tf.keras.Sequential([\n",
        "    tf.keras.layers.Conv1D(96, 2, activation='elu', input_shape=(n_steps_in, n_features)),\n",
        "    tf.keras.layers.MaxPooling1D(2),\n",
        "    tf.keras.layers.Conv1D(32, 2, activation='elu'),\n",
        "    tf.keras.layers.MaxPooling1D(1),\n",
        "    tf.keras.layers.Conv1D(32, 1, activation='elu'),\n",
        "    tf.keras.layers.MaxPooling1D(1),\n",
        "    tf.keras.layers.Flatten(),\n",
        "    tf.keras.layers.Dense(1024, activation='elu'),\n",
        "    tf.keras.layers.Dropout(.2),\n",
        "    tf.keras.layers.Dense(1024),\n",
        "    tf.keras.layers.Dense(n_steps_out)\n",
        "  ])\n",
        "\n",
        "  model.compile(optimizer='adam', loss='mae')\n",
        "\n",
        "  return model"
      ],
      "execution_count": 0,
      "outputs": []
    },
    {
      "cell_type": "code",
      "metadata": {
        "id": "bDHNCZbimXxm",
        "colab_type": "code",
        "outputId": "40d74c41-da09-45a5-c847-fef683be6d7a",
        "colab": {
          "base_uri": "https://localhost:8080/",
          "height": 550
        }
      },
      "source": [
        "model = get_compiled_model(n_steps_in,n_steps_out,n_features)\n",
        "\n",
        "model.summary()"
      ],
      "execution_count": 13,
      "outputs": [
        {
          "output_type": "stream",
          "text": [
            "Model: \"sequential\"\n",
            "_________________________________________________________________\n",
            "Layer (type)                 Output Shape              Param #   \n",
            "=================================================================\n",
            "conv1d (Conv1D)              (None, 8, 96)             288       \n",
            "_________________________________________________________________\n",
            "max_pooling1d (MaxPooling1D) (None, 4, 96)             0         \n",
            "_________________________________________________________________\n",
            "conv1d_1 (Conv1D)            (None, 3, 32)             6176      \n",
            "_________________________________________________________________\n",
            "max_pooling1d_1 (MaxPooling1 (None, 3, 32)             0         \n",
            "_________________________________________________________________\n",
            "conv1d_2 (Conv1D)            (None, 3, 32)             1056      \n",
            "_________________________________________________________________\n",
            "max_pooling1d_2 (MaxPooling1 (None, 3, 32)             0         \n",
            "_________________________________________________________________\n",
            "flatten (Flatten)            (None, 96)                0         \n",
            "_________________________________________________________________\n",
            "dense (Dense)                (None, 1024)              99328     \n",
            "_________________________________________________________________\n",
            "dropout (Dropout)            (None, 1024)              0         \n",
            "_________________________________________________________________\n",
            "dense_1 (Dense)              (None, 1024)              1049600   \n",
            "_________________________________________________________________\n",
            "dense_2 (Dense)              (None, 3)                 3075      \n",
            "=================================================================\n",
            "Total params: 1,159,523\n",
            "Trainable params: 1,159,523\n",
            "Non-trainable params: 0\n",
            "_________________________________________________________________\n"
          ],
          "name": "stdout"
        }
      ]
    },
    {
      "cell_type": "code",
      "metadata": {
        "id": "fgyx4pUFZVnq",
        "colab_type": "code",
        "colab": {}
      },
      "source": [
        "early_stop = tf.keras.callbacks.EarlyStopping(monitor='val_loss', patience=20, verbose=1)\n",
        "\n",
        "reduce_lr = tf.keras.callbacks.ReduceLROnPlateau(monitor='val_loss', factor=.9, patience=6, min_lr=1e-7, verbose=1)"
      ],
      "execution_count": 0,
      "outputs": []
    },
    {
      "cell_type": "code",
      "metadata": {
        "id": "TCzJEReGm_Fz",
        "colab_type": "code",
        "outputId": "76d74196-899b-42f6-bfd6-71fcdf694a71",
        "colab": {
          "base_uri": "https://localhost:8080/",
          "height": 1000
        }
      },
      "source": [
        "# fit model\n",
        "hist = model.fit(X, y, validation_split=.2, epochs=200, verbose=1, shuffle=True, callbacks=[early_stop])"
      ],
      "execution_count": 15,
      "outputs": [
        {
          "output_type": "stream",
          "text": [
            "Epoch 1/200\n",
            "2/2 [==============================] - 0s 122ms/step - loss: 0.5058 - val_loss: 0.1175\n",
            "Epoch 2/200\n",
            "2/2 [==============================] - 0s 26ms/step - loss: 0.2650 - val_loss: 0.9409\n",
            "Epoch 3/200\n",
            "2/2 [==============================] - 0s 26ms/step - loss: 0.1998 - val_loss: 0.3129\n",
            "Epoch 4/200\n",
            "2/2 [==============================] - 0s 25ms/step - loss: 0.1405 - val_loss: 0.2090\n",
            "Epoch 5/200\n",
            "2/2 [==============================] - 0s 25ms/step - loss: 0.1297 - val_loss: 0.3602\n",
            "Epoch 6/200\n",
            "2/2 [==============================] - 0s 25ms/step - loss: 0.1185 - val_loss: 0.3720\n",
            "Epoch 7/200\n",
            "2/2 [==============================] - 0s 28ms/step - loss: 0.1050 - val_loss: 0.1409\n",
            "Epoch 8/200\n",
            "2/2 [==============================] - 0s 25ms/step - loss: 0.0772 - val_loss: 0.2092\n",
            "Epoch 9/200\n",
            "2/2 [==============================] - 0s 31ms/step - loss: 0.0814 - val_loss: 0.2409\n",
            "Epoch 10/200\n",
            "2/2 [==============================] - 0s 26ms/step - loss: 0.0713 - val_loss: 0.3435\n",
            "Epoch 11/200\n",
            "2/2 [==============================] - 0s 25ms/step - loss: 0.0746 - val_loss: 0.1080\n",
            "Epoch 12/200\n",
            "2/2 [==============================] - 0s 27ms/step - loss: 0.0580 - val_loss: 0.1448\n",
            "Epoch 13/200\n",
            "2/2 [==============================] - 0s 28ms/step - loss: 0.0660 - val_loss: 0.0729\n",
            "Epoch 14/200\n",
            "2/2 [==============================] - 0s 25ms/step - loss: 0.0530 - val_loss: 0.1562\n",
            "Epoch 15/200\n",
            "2/2 [==============================] - 0s 26ms/step - loss: 0.0663 - val_loss: 0.1796\n",
            "Epoch 16/200\n",
            "2/2 [==============================] - 0s 25ms/step - loss: 0.0611 - val_loss: 0.3858\n",
            "Epoch 17/200\n",
            "2/2 [==============================] - 0s 25ms/step - loss: 0.1102 - val_loss: 0.1415\n",
            "Epoch 18/200\n",
            "2/2 [==============================] - 0s 25ms/step - loss: 0.0829 - val_loss: 0.2437\n",
            "Epoch 19/200\n",
            "2/2 [==============================] - 0s 30ms/step - loss: 0.0684 - val_loss: 0.1313\n",
            "Epoch 20/200\n",
            "2/2 [==============================] - 0s 26ms/step - loss: 0.0538 - val_loss: 0.1068\n",
            "Epoch 21/200\n",
            "2/2 [==============================] - 0s 26ms/step - loss: 0.0570 - val_loss: 0.1087\n",
            "Epoch 22/200\n",
            "2/2 [==============================] - 0s 25ms/step - loss: 0.0433 - val_loss: 0.1479\n",
            "Epoch 23/200\n",
            "2/2 [==============================] - 0s 26ms/step - loss: 0.0580 - val_loss: 0.1157\n",
            "Epoch 24/200\n",
            "2/2 [==============================] - 0s 25ms/step - loss: 0.0575 - val_loss: 0.1389\n",
            "Epoch 25/200\n",
            "2/2 [==============================] - 0s 26ms/step - loss: 0.0516 - val_loss: 0.1269\n",
            "Epoch 26/200\n",
            "2/2 [==============================] - 0s 25ms/step - loss: 0.0509 - val_loss: 0.0779\n",
            "Epoch 27/200\n",
            "2/2 [==============================] - 0s 27ms/step - loss: 0.0474 - val_loss: 0.0201\n",
            "Epoch 28/200\n",
            "2/2 [==============================] - 0s 25ms/step - loss: 0.0507 - val_loss: 0.0949\n",
            "Epoch 29/200\n",
            "2/2 [==============================] - 0s 28ms/step - loss: 0.0576 - val_loss: 0.1030\n",
            "Epoch 30/200\n",
            "2/2 [==============================] - 0s 26ms/step - loss: 0.0492 - val_loss: 0.0303\n",
            "Epoch 31/200\n",
            "2/2 [==============================] - 0s 26ms/step - loss: 0.0553 - val_loss: 0.1651\n",
            "Epoch 32/200\n",
            "2/2 [==============================] - 0s 27ms/step - loss: 0.0560 - val_loss: 0.1901\n",
            "Epoch 33/200\n",
            "2/2 [==============================] - 0s 26ms/step - loss: 0.0745 - val_loss: 0.1515\n",
            "Epoch 34/200\n",
            "2/2 [==============================] - 0s 28ms/step - loss: 0.0673 - val_loss: 0.1130\n",
            "Epoch 35/200\n",
            "2/2 [==============================] - 0s 25ms/step - loss: 0.0566 - val_loss: 0.3174\n",
            "Epoch 36/200\n",
            "2/2 [==============================] - 0s 26ms/step - loss: 0.0823 - val_loss: 0.0919\n",
            "Epoch 37/200\n",
            "2/2 [==============================] - 0s 25ms/step - loss: 0.0540 - val_loss: 0.1083\n",
            "Epoch 38/200\n",
            "2/2 [==============================] - 0s 28ms/step - loss: 0.0499 - val_loss: 0.0993\n",
            "Epoch 39/200\n",
            "2/2 [==============================] - 0s 26ms/step - loss: 0.0498 - val_loss: 0.1314\n",
            "Epoch 40/200\n",
            "2/2 [==============================] - 0s 27ms/step - loss: 0.0488 - val_loss: 0.0365\n",
            "Epoch 41/200\n",
            "2/2 [==============================] - 0s 26ms/step - loss: 0.0496 - val_loss: 0.1246\n",
            "Epoch 42/200\n",
            "2/2 [==============================] - 0s 26ms/step - loss: 0.0393 - val_loss: 0.1538\n",
            "Epoch 43/200\n",
            "2/2 [==============================] - 0s 24ms/step - loss: 0.0390 - val_loss: 0.0856\n",
            "Epoch 44/200\n",
            "2/2 [==============================] - 0s 25ms/step - loss: 0.0428 - val_loss: 0.1403\n",
            "Epoch 45/200\n",
            "2/2 [==============================] - 0s 26ms/step - loss: 0.0376 - val_loss: 0.0748\n",
            "Epoch 46/200\n",
            "2/2 [==============================] - 0s 28ms/step - loss: 0.0493 - val_loss: 0.0662\n",
            "Epoch 47/200\n",
            "2/2 [==============================] - 0s 25ms/step - loss: 0.0496 - val_loss: 0.1123\n",
            "Epoch 00047: early stopping\n"
          ],
          "name": "stdout"
        }
      ]
    },
    {
      "cell_type": "code",
      "metadata": {
        "id": "DbUg32rWp8QE",
        "colab_type": "code",
        "outputId": "988670e6-bbf4-4c8c-ccb2-10cee4bd2da2",
        "colab": {
          "base_uri": "https://localhost:8080/",
          "height": 52
        }
      },
      "source": [
        "# demonstrate prediction\n",
        "x_input = np.log10(conf_df.loc[:,'1/22/20':].sum()[-(n_steps_in+1):-1].to_numpy())\n",
        "x_inMEAN = x_input.mean()\n",
        "x_inSTD = x_input.std()\n",
        "x_input = standardize(x_input, x_inMEAN, x_inSTD)\n",
        "x_input = x_input.reshape((1, n_steps_in, n_features))\n",
        "yhat = model.predict(x_input, verbose=0)\n",
        "yhat = inv_standardize(yhat, x_inMEAN, x_inSTD)\n",
        "print(\"Prediction: {0:.0f} True: {1:.0f}\".format((10 ** yhat[0][-1]), (10 ** raw_seq[-1])))\n",
        "PE = (((10 ** yhat[0][-1] - 10 ** raw_seq[-1])/10 ** raw_seq[-1]))\n",
        "print(\"Percent Error: {0:.3%}\".format(PE))"
      ],
      "execution_count": 16,
      "outputs": [
        {
          "output_type": "stream",
          "text": [
            "Prediction: 2123646 True: 2056054\n",
            "Percent Error: 3.287%\n"
          ],
          "name": "stdout"
        }
      ]
    },
    {
      "cell_type": "code",
      "metadata": {
        "id": "hxcZqo4tF3uf",
        "colab_type": "code",
        "outputId": "90299a0e-f716-41dd-d58b-3ad0ce59573e",
        "colab": {
          "base_uri": "https://localhost:8080/",
          "height": 494
        }
      },
      "source": [
        "plt.figure(figsize=(25,8))\n",
        "sns.lineplot([n for n in range(1,3)],[10**n for n in yhat[0][:2]]);\n",
        "sns.lineplot([n for n in range(1,3)],conf_df.loc[:,'1/22/20':].sum()[-3:].to_numpy()[1:]);"
      ],
      "execution_count": 17,
      "outputs": [
        {
          "output_type": "display_data",
          "data": {
            "image/png": "[encoded data removed]",
            "text/plain": [
              "<Figure size 1800x576 with 1 Axes>"
            ]
          },
          "metadata": {
            "tags": [],
            "needs_background": "light"
          }
        }
      ]
    },
    {
      "cell_type": "code",
      "metadata": {
        "id": "0O48Jb8srczs",
        "colab_type": "code",
        "outputId": "8563c8a6-0daa-4f1d-d211-3f31fb67c7d5",
        "colab": {
          "base_uri": "https://localhost:8080/",
          "height": 35
        }
      },
      "source": [
        "# prediction for tomorrow\n",
        "x_input = np.log10(conf_df.loc[:,'1/22/20':].sum()[-n_steps_in:].to_numpy())\n",
        "x_inMEAN = x_input.mean()\n",
        "x_inSTD = x_input.std()\n",
        "x_input = standardize(x_input, x_inMEAN, x_inSTD)\n",
        "x_input = x_input.reshape((1, n_steps_in, n_features))\n",
        "yhat = model.predict(x_input, verbose=0)\n",
        "yhat = inv_standardize(yhat, x_inMEAN, x_inSTD)\n",
        "print(\"%d\" % (10 ** yhat[0][-1]))"
      ],
      "execution_count": 18,
      "outputs": [
        {
          "output_type": "stream",
          "text": [
            "2188134\n"
          ],
          "name": "stdout"
        }
      ]
    },
    {
      "cell_type": "code",
      "metadata": {
        "id": "yxhNtF1t7Plk",
        "colab_type": "code",
        "outputId": "a56506dc-cef5-4535-95fe-50f8f962fafa",
        "colab": {
          "base_uri": "https://localhost:8080/",
          "height": 70
        }
      },
      "source": [
        "for pred in yhat[0]:\n",
        "  print(\"%d\" % (10 ** pred))"
      ],
      "execution_count": 19,
      "outputs": [
        {
          "output_type": "stream",
          "text": [
            "2083668\n",
            "2148348\n",
            "2188134\n"
          ],
          "name": "stdout"
        }
      ]
    },
    {
      "cell_type": "code",
      "metadata": {
        "id": "Hznj0UABw622",
        "colab_type": "code",
        "colab": {}
      },
      "source": [
        "hist = pd.DataFrame(hist.history)"
      ],
      "execution_count": 0,
      "outputs": []
    },
    {
      "cell_type": "code",
      "metadata": {
        "id": "lxJt0WNm7rcY",
        "colab_type": "code",
        "outputId": "fe759e61-89f0-4672-9ab7-fcf5f1c63d20",
        "colab": {
          "base_uri": "https://localhost:8080/",
          "height": 374
        }
      },
      "source": [
        "hist.plot(figsize=(25,6));"
      ],
      "execution_count": 21,
      "outputs": [
        {
          "output_type": "display_data",
          "data": {
            "image/png": "[encoded data removed]",
            "text/plain": [
              "<Figure size 1800x432 with 1 Axes>"
            ]
          },
          "metadata": {
            "tags": [],
            "needs_background": "light"
          }
        }
      ]
    },
    {
      "cell_type": "code",
      "metadata": {
        "id": "4PTu9LBEIvRP",
        "colab_type": "code",
        "outputId": "859cf07d-348d-4242-f9bd-a184cfed1e49",
        "colab": {
          "base_uri": "https://localhost:8080/",
          "height": 70
        }
      },
      "source": [
        "[n for n in range(1,4)],[10**n for n in yhat[0]],conf_df.loc[:,'1/22/20':].sum()[-3:].to_numpy()"
      ],
      "execution_count": 22,
      "outputs": [
        {
          "output_type": "execute_result",
          "data": {
            "text/plain": [
              "([1, 2, 3],\n",
              " [2083668.2911156774, 2148348.2524591302, 2188134.7453796696],\n",
              " array([1917319, 1976191, 2056054]))"
            ]
          },
          "metadata": {
            "tags": []
          },
          "execution_count": 22
        }
      ]
    },
    {
      "cell_type": "code",
      "metadata": {
        "id": "n_uE45QzIpua",
        "colab_type": "code",
        "colab": {}
      },
      "source": [
        ""
      ],
      "execution_count": 0,
      "outputs": []
    }
  ]
}